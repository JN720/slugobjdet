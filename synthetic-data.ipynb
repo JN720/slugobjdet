{
 "cells": [
  {
   "cell_type": "markdown",
   "metadata": {},
   "source": [
    "Get Scenes from https://drive.google.com/drive/folders/1URQoHuySdfWeURLd0LiXsuWwUtfMJWA1\n"
   ]
  },
  {
   "cell_type": "code",
   "execution_count": null,
   "metadata": {},
   "outputs": [],
   "source": [
    "import trimesh\n",
    "import pyrender\n",
    "import numpy as np\n",
    "from PIL import Image\n",
    "import os\n",
    "\n",
    "import pyrender.constants\n",
    "\n",
    "# os.environ['PYOPENGL_PLATFORM'] = 'egl'"
   ]
  },
  {
   "cell_type": "code",
   "execution_count": 7,
   "metadata": {},
   "outputs": [],
   "source": [
    "SLUG_MESH = trimesh.scene.Scene(trimesh.load('slug_mesh.glb'))"
   ]
  },
  {
   "cell_type": "code",
   "execution_count": 17,
   "metadata": {},
   "outputs": [],
   "source": [
    "def look_at(eye, target, up):\n",
    "    forward = target - eye\n",
    "    forward = forward / np.linalg.norm(forward)\n",
    "    right = np.cross(up, forward)\n",
    "    right = right / np.linalg.norm(right)\n",
    "    up = np.cross(forward, right)\n",
    "    up = up / np.linalg.norm(up)\n",
    "    \n",
    "    matrix = np.eye(4)\n",
    "    matrix[0, :3] = right\n",
    "    matrix[1, :3] = up\n",
    "    matrix[2, :3] = forward\n",
    "    matrix[:3, 3] = -np.dot(np.array([right, up, forward]), eye)\n",
    "    \n",
    "    return matrix\n",
    "\n",
    "def create_slug_render(img_size=(512, 512)):\n",
    "    scene = pyrender.Scene.from_trimesh_scene(SLUG_MESH)\n",
    "    scene.bg_color = [0, 0, 0, 0]  \n",
    "\n",
    "    cam_pos = np.random.uniform(-2, 2, size=3)\n",
    "    cam_target = np.zeros(3)\n",
    "    up = np.array([0, 1, 0])\n",
    "    \n",
    "    camera_pose = look_at(cam_pos, cam_target, up)\n",
    "    \n",
    "    camera = pyrender.PerspectiveCamera(yfov=np.random.uniform(0.5, 1.5))\n",
    "    scene.add(camera, pose=camera_pose)\n",
    "\n",
    "    renderer = pyrender.OffscreenRenderer(*img_size)\n",
    "    color, _ = renderer.render(scene, flags = pyrender.constants.RenderFlags.RGBA)\n",
    "    renderer.delete()\n",
    "\n",
    "    print(color.shape)\n",
    "    img = Image.fromarray(color, 'RGBA')\n",
    "    return img\n",
    "\n",
    "def create_datapoint(foreground, background_path):\n",
    "    background = Image.open(background_path).convert(\"RGBA\")\n",
    "\n",
    "    scale = min(np.random.uniform(0.3, 1.0), \n",
    "                min(background.width / foreground.width, background.height / foreground.height) * 0.9)  # Added * 0.9 for a small margin\n",
    "    new_size = (int(foreground.width * scale), int(foreground.height * scale))\n",
    "    foreground = foreground.resize(new_size)\n",
    "\n",
    "    max_x = background.width - foreground.width\n",
    "    max_y = background.height - foreground.height\n",
    "    pos_x = np.random.randint(0, max_x)\n",
    "    pos_y = np.random.randint(0, max_y)\n",
    "\n",
    "    label = [\n",
    "        pos_x,                    \n",
    "        pos_y,                    \n",
    "        pos_x + foreground.width, \n",
    "        pos_y + foreground.height \n",
    "    ]\n",
    "\n",
    "    background.paste(foreground, (pos_x, pos_y), foreground)\n",
    "    return background, label\n",
    "\n"
   ]
  },
  {
   "cell_type": "code",
   "execution_count": 9,
   "metadata": {},
   "outputs": [],
   "source": [
    "SYNTHETIC_DATA_DIR = \"synthetic-data\"\n",
    "\n",
    "os.makedirs(SYNTHETIC_DATA_DIR, exist_ok=True)\n",
    "\n",
    "BACKGROUND_IMAGE_DIR = \"backgrounds\"\n",
    "image_names = os.listdir(BACKGROUND_IMAGE_DIR)\n",
    "image_files = [os.path.join(BACKGROUND_IMAGE_DIR, name) for name in image_names if name.endswith(\".jpg\")]\n",
    "\n",
    "NUM_DATAPOINTS = 10"
   ]
  },
  {
   "cell_type": "code",
   "execution_count": null,
   "metadata": {},
   "outputs": [],
   "source": [
    "YAML_FILE = \"\"\"\n",
    "names:\n",
    "- slug\n",
    "nc: 1\n",
    "test: ../test/images\n",
    "train: ../train/images\n",
    "val: ../valid/images\n",
    "\"\"\"\n",
    "\n",
    "with open(os.path.join(SYNTHETIC_DATA_DIR, 'data.yaml'), \"w\") as f:\n",
    "    f.write(YAML_FILE)\n",
    "\n",
    "TRAIN_SPLIT = 0.7\n",
    "TEST_SPLIT = 0.2\n",
    "\n",
    "train_index = int(NUM_DATAPOINTS * TRAIN_SPLIT)\n",
    "test_index = int(NUM_DATAPOINTS * (1 - TEST_SPLIT))\n",
    "\n",
    "indices = [train_index, test_index, NUM_DATAPOINTS - 1]\n",
    "\n",
    "index = 0\n",
    "for i, split in enumerate([\"train\", \"valid\", \"test\"]):\n",
    "    os.makedirs(os.path.join(SYNTHETIC_DATA_DIR, split, \"images\"), exist_ok=True)\n",
    "    os.makedirs(os.path.join(SYNTHETIC_DATA_DIR, split, \"labels\"), exist_ok=True)\n",
    "    final_index = indices[i]\n",
    "\n",
    "    while index < final_index:\n",
    "        rendered_model = create_slug_render()\n",
    "        final_image, bbox = create_datapoint(rendered_model, image_files[index])\n",
    "        final_image.show()  \n",
    "        final_image.save(os.path.join(SYNTHETIC_DATA_DIR, split, 'images', \"{}.png\".format(index)))\n",
    "\n",
    "        with open(os.path.join(SYNTHETIC_DATA_DIR, split, \"labels\", \"{}.txt\".format(index)), \"w\") as f:\n",
    "            f.write(\"0 {} {} {} {}\".format(*bbox))\n",
    "\n",
    "        del rendered_model\n",
    "\n",
    "        index += 1"
   ]
  }
 ],
 "metadata": {
  "kernelspec": {
   "display_name": "slugobjdet",
   "language": "python",
   "name": "python3"
  },
  "language_info": {
   "codemirror_mode": {
    "name": "ipython",
    "version": 3
   },
   "file_extension": ".py",
   "mimetype": "text/x-python",
   "name": "python",
   "nbconvert_exporter": "python",
   "pygments_lexer": "ipython3",
   "version": "3.13.2"
  }
 },
 "nbformat": 4,
 "nbformat_minor": 2
}
